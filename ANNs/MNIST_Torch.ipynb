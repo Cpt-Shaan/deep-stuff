{
  "nbformat": 4,
  "nbformat_minor": 0,
  "metadata": {
    "colab": {
      "provenance": [],
      "mount_file_id": "1LToQwLdFCxPkNxveZU7duUsLnSfC-CHX",
      "authorship_tag": "ABX9TyPJLQdlhmxklZIrGk56CBL3",
      "include_colab_link": true
    },
    "kernelspec": {
      "name": "python3",
      "display_name": "Python 3"
    },
    "language_info": {
      "name": "python"
    }
  },
  "cells": [
    {
      "cell_type": "markdown",
      "metadata": {
        "id": "view-in-github",
        "colab_type": "text"
      },
      "source": [
        "<a href=\"https://colab.research.google.com/github/Cpt-Shaan/deep-stuff/blob/main/ANNs/MNIST_Torch.ipynb\" target=\"_parent\"><img src=\"https://colab.research.google.com/assets/colab-badge.svg\" alt=\"Open In Colab\"/></a>"
      ]
    },
    {
      "cell_type": "code",
      "source": [
        "import torch\n",
        "import torch.nn as nn\n",
        "import torch.nn.functional as F\n",
        "from torch.utils.data import Dataset, DataLoader, random_split\n",
        "import torchvision.transforms as transforms\n",
        "from torchvision.datasets import MNIST\n",
        "import torchvision\n",
        "import numpy as np\n",
        "import matplotlib.pyplot as plt"
      ],
      "metadata": {
        "id": "wgcVDqpaYZ9H"
      },
      "execution_count": null,
      "outputs": []
    },
    {
      "cell_type": "code",
      "source": [
        "dataset = MNIST(root = 'data/', download = True)\n",
        "print(len(dataset))"
      ],
      "metadata": {
        "colab": {
          "base_uri": "https://localhost:8080/"
        },
        "id": "TWyaro7AdB0g",
        "outputId": "8df57eef-b8fe-41ea-f3e2-35958e36749a"
      },
      "execution_count": null,
      "outputs": [
        {
          "output_type": "stream",
          "name": "stdout",
          "text": [
            "Downloading http://yann.lecun.com/exdb/mnist/train-images-idx3-ubyte.gz\n",
            "Failed to download (trying next):\n",
            "<urlopen error [SSL: CERTIFICATE_VERIFY_FAILED] certificate verify failed: certificate has expired (_ssl.c:1007)>\n",
            "\n",
            "Downloading https://ossci-datasets.s3.amazonaws.com/mnist/train-images-idx3-ubyte.gz\n",
            "Downloading https://ossci-datasets.s3.amazonaws.com/mnist/train-images-idx3-ubyte.gz to data/MNIST/raw/train-images-idx3-ubyte.gz\n"
          ]
        },
        {
          "output_type": "stream",
          "name": "stderr",
          "text": [
            "100%|██████████| 9.91M/9.91M [00:00<00:00, 17.7MB/s]\n"
          ]
        },
        {
          "output_type": "stream",
          "name": "stdout",
          "text": [
            "Extracting data/MNIST/raw/train-images-idx3-ubyte.gz to data/MNIST/raw\n",
            "\n",
            "Downloading http://yann.lecun.com/exdb/mnist/train-labels-idx1-ubyte.gz\n",
            "Failed to download (trying next):\n",
            "<urlopen error [SSL: CERTIFICATE_VERIFY_FAILED] certificate verify failed: certificate has expired (_ssl.c:1007)>\n",
            "\n",
            "Downloading https://ossci-datasets.s3.amazonaws.com/mnist/train-labels-idx1-ubyte.gz\n",
            "Downloading https://ossci-datasets.s3.amazonaws.com/mnist/train-labels-idx1-ubyte.gz to data/MNIST/raw/train-labels-idx1-ubyte.gz\n"
          ]
        },
        {
          "output_type": "stream",
          "name": "stderr",
          "text": [
            "100%|██████████| 28.9k/28.9k [00:00<00:00, 482kB/s]\n"
          ]
        },
        {
          "output_type": "stream",
          "name": "stdout",
          "text": [
            "Extracting data/MNIST/raw/train-labels-idx1-ubyte.gz to data/MNIST/raw\n",
            "\n",
            "Downloading http://yann.lecun.com/exdb/mnist/t10k-images-idx3-ubyte.gz\n",
            "Failed to download (trying next):\n",
            "<urlopen error [SSL: CERTIFICATE_VERIFY_FAILED] certificate verify failed: certificate has expired (_ssl.c:1007)>\n",
            "\n",
            "Downloading https://ossci-datasets.s3.amazonaws.com/mnist/t10k-images-idx3-ubyte.gz\n",
            "Downloading https://ossci-datasets.s3.amazonaws.com/mnist/t10k-images-idx3-ubyte.gz to data/MNIST/raw/t10k-images-idx3-ubyte.gz\n"
          ]
        },
        {
          "output_type": "stream",
          "name": "stderr",
          "text": [
            "100%|██████████| 1.65M/1.65M [00:00<00:00, 4.37MB/s]\n"
          ]
        },
        {
          "output_type": "stream",
          "name": "stdout",
          "text": [
            "Extracting data/MNIST/raw/t10k-images-idx3-ubyte.gz to data/MNIST/raw\n",
            "\n",
            "Downloading http://yann.lecun.com/exdb/mnist/t10k-labels-idx1-ubyte.gz\n",
            "Failed to download (trying next):\n",
            "<urlopen error [SSL: CERTIFICATE_VERIFY_FAILED] certificate verify failed: certificate has expired (_ssl.c:1007)>\n",
            "\n",
            "Downloading https://ossci-datasets.s3.amazonaws.com/mnist/t10k-labels-idx1-ubyte.gz\n",
            "Downloading https://ossci-datasets.s3.amazonaws.com/mnist/t10k-labels-idx1-ubyte.gz to data/MNIST/raw/t10k-labels-idx1-ubyte.gz\n"
          ]
        },
        {
          "output_type": "stream",
          "name": "stderr",
          "text": [
            "100%|██████████| 4.54k/4.54k [00:00<00:00, 8.21MB/s]"
          ]
        },
        {
          "output_type": "stream",
          "name": "stdout",
          "text": [
            "Extracting data/MNIST/raw/t10k-labels-idx1-ubyte.gz to data/MNIST/raw\n",
            "\n",
            "60000\n"
          ]
        },
        {
          "output_type": "stream",
          "name": "stderr",
          "text": [
            "\n"
          ]
        }
      ]
    },
    {
      "cell_type": "code",
      "source": [
        "type(dataset)"
      ],
      "metadata": {
        "colab": {
          "base_uri": "https://localhost:8080/",
          "height": 203
        },
        "id": "kCwLfFfgdgX0",
        "outputId": "d3e22d17-0bdc-43e6-8e53-d8a832cd1dd4"
      },
      "execution_count": null,
      "outputs": [
        {
          "output_type": "execute_result",
          "data": {
            "text/plain": [
              "torchvision.datasets.mnist.MNIST"
            ],
            "text/html": [
              "<div style=\"max-width:800px; border: 1px solid var(--colab-border-color);\"><style>\n",
              "      pre.function-repr-contents {\n",
              "        overflow-x: auto;\n",
              "        padding: 8px 12px;\n",
              "        max-height: 500px;\n",
              "      }\n",
              "\n",
              "      pre.function-repr-contents.function-repr-contents-collapsed {\n",
              "        cursor: pointer;\n",
              "        max-height: 100px;\n",
              "      }\n",
              "    </style>\n",
              "    <pre style=\"white-space: initial; background:\n",
              "         var(--colab-secondary-surface-color); padding: 8px 12px;\n",
              "         border-bottom: 1px solid var(--colab-border-color);\"><b>torchvision.datasets.mnist.MNIST</b><br/>def __init__(root: Union[str, Path], train: bool=True, transform: Optional[Callable]=None, target_transform: Optional[Callable]=None, download: bool=False) -&gt; None</pre><pre class=\"function-repr-contents function-repr-contents-collapsed\" style=\"\"><a class=\"filepath\" style=\"display:none\" href=\"#\">/usr/local/lib/python3.10/dist-packages/torchvision/datasets/mnist.py</a>`MNIST &lt;http://yann.lecun.com/exdb/mnist/&gt;`_ Dataset.\n",
              "\n",
              "Args:\n",
              "    root (str or ``pathlib.Path``): Root directory of dataset where ``MNIST/raw/train-images-idx3-ubyte``\n",
              "        and  ``MNIST/raw/t10k-images-idx3-ubyte`` exist.\n",
              "    train (bool, optional): If True, creates dataset from ``train-images-idx3-ubyte``,\n",
              "        otherwise from ``t10k-images-idx3-ubyte``.\n",
              "    download (bool, optional): If True, downloads the dataset from the internet and\n",
              "        puts it in root directory. If dataset is already downloaded, it is not\n",
              "        downloaded again.\n",
              "    transform (callable, optional): A function/transform that  takes in a PIL image\n",
              "        and returns a transformed version. E.g, ``transforms.RandomCrop``\n",
              "    target_transform (callable, optional): A function/transform that takes in the\n",
              "        target and transforms it.</pre>\n",
              "      <script>\n",
              "      if (google.colab.kernel.accessAllowed && google.colab.files && google.colab.files.view) {\n",
              "        for (const element of document.querySelectorAll('.filepath')) {\n",
              "          element.style.display = 'block'\n",
              "          element.onclick = (event) => {\n",
              "            event.preventDefault();\n",
              "            event.stopPropagation();\n",
              "            google.colab.files.view(element.textContent, 20);\n",
              "          };\n",
              "        }\n",
              "      }\n",
              "      for (const element of document.querySelectorAll('.function-repr-contents')) {\n",
              "        element.onclick = (event) => {\n",
              "          event.preventDefault();\n",
              "          event.stopPropagation();\n",
              "          element.classList.toggle('function-repr-contents-collapsed');\n",
              "        };\n",
              "      }\n",
              "      </script>\n",
              "      </div>"
            ]
          },
          "metadata": {},
          "execution_count": 3
        }
      ]
    },
    {
      "cell_type": "code",
      "source": [
        "print(dataset[400])"
      ],
      "metadata": {
        "colab": {
          "base_uri": "https://localhost:8080/"
        },
        "id": "BqIZUBm7b0tg",
        "outputId": "83b2b75c-0d79-4db7-c9af-e37b4646270d"
      },
      "execution_count": null,
      "outputs": [
        {
          "output_type": "stream",
          "name": "stdout",
          "text": [
            "(<PIL.Image.Image image mode=L size=28x28 at 0x7AA637D79D20>, 2)\n"
          ]
        }
      ]
    },
    {
      "cell_type": "code",
      "source": [
        "image, label = dataset[400]\n",
        "plt.imshow(image, cmap = 'gray')\n",
        "print('Label:', label)"
      ],
      "metadata": {
        "colab": {
          "base_uri": "https://localhost:8080/",
          "height": 447
        },
        "id": "fst7LK6fdmbE",
        "outputId": "9d35e919-7683-4f1d-977c-67e698d2a137"
      },
      "execution_count": null,
      "outputs": [
        {
          "output_type": "stream",
          "name": "stdout",
          "text": [
            "Label: 2\n"
          ]
        },
        {
          "output_type": "display_data",
          "data": {
            "text/plain": [
              "<Figure size 640x480 with 1 Axes>"
            ],
            "image/png": "[encoded data removed]"
          },
          "metadata": {}
        }
      ]
    },
    {
      "cell_type": "code",
      "source": [
        "train_data = MNIST(root = 'data/', train = True, transform = transforms.ToTensor())\n",
        "print(train_data)"
      ],
      "metadata": {
        "colab": {
          "base_uri": "https://localhost:8080/"
        },
        "id": "ES54xgiKejzN",
        "outputId": "a90a7244-8b2a-4612-f320-cc7897dd056d"
      },
      "execution_count": null,
      "outputs": [
        {
          "output_type": "stream",
          "name": "stdout",
          "text": [
            "Dataset MNIST\n",
            "    Number of datapoints: 60000\n",
            "    Root location: data/\n",
            "    Split: Train\n",
            "    StandardTransform\n",
            "Transform: ToTensor()\n"
          ]
        }
      ]
    },
    {
      "cell_type": "code",
      "source": [
        "test_data = MNIST(root = 'data/', train = False, transform = transforms.ToTensor())\n",
        "print(test_data)"
      ],
      "metadata": {
        "colab": {
          "base_uri": "https://localhost:8080/"
        },
        "id": "AIA7dOxhgA6Q",
        "outputId": "d3c87148-bf25-43c0-b294-4244d835760f"
      },
      "execution_count": null,
      "outputs": [
        {
          "output_type": "stream",
          "name": "stdout",
          "text": [
            "Dataset MNIST\n",
            "    Number of datapoints: 10000\n",
            "    Root location: data/\n",
            "    Split: Test\n",
            "    StandardTransform\n",
            "Transform: ToTensor()\n"
          ]
        }
      ]
    },
    {
      "cell_type": "code",
      "source": [
        "batch_size = 2048\n",
        "train_loader = DataLoader(train_data, batch_size, shuffle = True)\n",
        "test_loader = DataLoader(test_data, batch_size)"
      ],
      "metadata": {
        "id": "Lo2OoBRrhHGu"
      },
      "execution_count": null,
      "outputs": []
    },
    {
      "cell_type": "code",
      "source": [
        "plt.imshow(train_data[0][0].reshape(28,28), cmap = 'gray')"
      ],
      "metadata": {
        "colab": {
          "base_uri": "https://localhost:8080/",
          "height": 447
        },
        "id": "jzGVkF8SaKGx",
        "outputId": "e8c1e6dc-c11d-4de1-d9c2-6616f431a436"
      },
      "execution_count": null,
      "outputs": [
        {
          "output_type": "execute_result",
          "data": {
            "text/plain": [
              "<matplotlib.image.AxesImage at 0x7aa62f2c8b80>"
            ]
          },
          "metadata": {},
          "execution_count": 25
        },
        {
          "output_type": "display_data",
          "data": {
            "text/plain": [
              "<Figure size 640x480 with 1 Axes>"
            ],
            "image/png": "[encoded data removed]"
          },
          "metadata": {}
        }
      ]
    },
    {
      "cell_type": "code",
      "source": [
        "input_size = 784\n",
        "classes = 10\n",
        "\n",
        "def accuracy(outputs, labels):\n",
        "    _, preds = torch.max(outputs, dim = 1)\n",
        "    return(torch.tensor(torch.sum(preds == labels).item()/ len(preds)))\n",
        "\n",
        "class MnistModel(nn.Module):\n",
        "    def __init__(self):\n",
        "        super().__init__()\n",
        "        self.linear = nn.Linear(input_size, classes)\n",
        "\n",
        "    def forward(self, x):\n",
        "        x = x.reshape(-1, 784)\n",
        "        z = self.linear(x)\n",
        "\n",
        "        return(z)\n",
        "\n",
        "    def training_step(self, batch):\n",
        "        images, labels = batch\n",
        "        out = self(images) ## Generate predictions\n",
        "        loss = F.cross_entropy(out, labels) ## Calculate the loss\n",
        "        return(loss)\n",
        "\n",
        "    def test_step(self, batch):\n",
        "        images, labels = batch\n",
        "        out = self(images)\n",
        "        loss = F.cross_entropy(out, labels)\n",
        "        acc = accuracy(out, labels)\n",
        "        return({'test_loss':loss, 'test_acc': acc})\n",
        "\n",
        "    def test_epoch_end(self, outputs):\n",
        "        batch_losses = [x['test_loss'] for x in outputs]\n",
        "        epoch_loss = torch.stack(batch_losses).mean()\n",
        "        batch_accs = [x['test_acc'] for x in outputs]\n",
        "        epoch_acc = torch.stack(batch_accs).mean()\n",
        "        return({'test_loss': epoch_loss.item(), 'test_acc' : epoch_acc.item()})\n",
        "\n",
        "    def epoch_end(self, epoch,result):\n",
        "        print(\"Epoch [{}], test_loss: {:.4f}, test_acc: {:.4f}\".format(epoch, result['test_loss'], result['test_acc']))\n",
        "\n",
        "model = MnistModel()\n",
        "print(model.linear.weight.shape, model.linear.bias.shape)\n",
        "list(model.parameters())"
      ],
      "metadata": {
        "colab": {
          "base_uri": "https://localhost:8080/"
        },
        "id": "QMCaciMRiRB1",
        "outputId": "c0ec9464-4e42-4865-921f-b633641fb7da"
      },
      "execution_count": null,
      "outputs": [
        {
          "output_type": "stream",
          "name": "stdout",
          "text": [
            "torch.Size([10, 784]) torch.Size([10])\n"
          ]
        },
        {
          "output_type": "execute_result",
          "data": {
            "text/plain": [
              "[Parameter containing:\n",
              " tensor([[ 0.0309, -0.0115, -0.0276,  ...,  0.0113,  0.0052, -0.0083],\n",
              "         [-0.0253, -0.0316,  0.0057,  ..., -0.0079, -0.0164,  0.0027],\n",
              "         [-0.0294,  0.0257,  0.0272,  ...,  0.0158,  0.0182, -0.0099],\n",
              "         ...,\n",
              "         [-0.0171, -0.0237, -0.0117,  ...,  0.0353,  0.0170,  0.0296],\n",
              "         [-0.0093, -0.0160, -0.0301,  ...,  0.0281, -0.0040, -0.0342],\n",
              "         [ 0.0205, -0.0218,  0.0253,  ..., -0.0138,  0.0050,  0.0222]],\n",
              "        requires_grad=True),\n",
              " Parameter containing:\n",
              " tensor([-0.0331,  0.0208, -0.0057,  0.0263,  0.0352,  0.0004, -0.0006,  0.0065,\n",
              "          0.0225, -0.0333], requires_grad=True)]"
            ]
          },
          "metadata": {},
          "execution_count": 42
        }
      ]
    },
    {
      "cell_type": "code",
      "source": [
        "def evaluate(model, test_loader):\n",
        "    outputs = [model.test_step(batch) for batch in test_loader]\n",
        "    return(model.test_epoch_end(outputs))\n",
        "\n",
        "def fit(epochs, lr, model, train_loader, test_loader, opt_func = torch.optim.Adam):\n",
        "    history = []\n",
        "    optimizer = opt_func(model.parameters(), lr)\n",
        "    for epoch in range(epochs):\n",
        "\n",
        "        ## Training Phas\n",
        "        for batch in train_loader:\n",
        "            loss = model.training_step(batch)\n",
        "            loss.backward()\n",
        "            optimizer.step()\n",
        "            optimizer.zero_grad()\n",
        "\n",
        "        ## Testing phase\n",
        "        result = evaluate(model, test_loader)\n",
        "        model.epoch_end(epoch, result)\n",
        "        history.append(result)\n",
        "    return(history)"
      ],
      "metadata": {
        "id": "80Y0ucktF-FX"
      },
      "execution_count": null,
      "outputs": []
    },
    {
      "cell_type": "code",
      "source": [
        "history = fit(100, 0.006, model, train_loader, test_loader)"
      ],
      "metadata": {
        "colab": {
          "base_uri": "https://localhost:8080/"
        },
        "id": "C_BpWZg4KctE",
        "outputId": "eeeb6094-5224-4ed6-974f-769fbaf9589a"
      },
      "execution_count": null,
      "outputs": [
        {
          "output_type": "stream",
          "name": "stdout",
          "text": [
            "Epoch [0], test_loss: 2.1479, test_acc: 0.3874\n",
            "Epoch [1], test_loss: 1.9806, test_acc: 0.5999\n",
            "Epoch [2], test_loss: 1.8374, test_acc: 0.6867\n",
            "Epoch [3], test_loss: 1.7129, test_acc: 0.7314\n",
            "Epoch [4], test_loss: 1.6043, test_acc: 0.7572\n",
            "Epoch [5], test_loss: 1.5094, test_acc: 0.7720\n",
            "Epoch [6], test_loss: 1.4262, test_acc: 0.7838\n",
            "Epoch [7], test_loss: 1.3532, test_acc: 0.7948\n",
            "Epoch [8], test_loss: 1.2889, test_acc: 0.8014\n",
            "Epoch [9], test_loss: 1.2319, test_acc: 0.8081\n",
            "Epoch [10], test_loss: 1.1812, test_acc: 0.8136\n",
            "Epoch [11], test_loss: 1.1360, test_acc: 0.8170\n",
            "Epoch [12], test_loss: 1.0953, test_acc: 0.8203\n",
            "Epoch [13], test_loss: 1.0586, test_acc: 0.8233\n",
            "Epoch [14], test_loss: 1.0254, test_acc: 0.8259\n",
            "Epoch [15], test_loss: 0.9951, test_acc: 0.8279\n",
            "Epoch [16], test_loss: 0.9676, test_acc: 0.8310\n",
            "Epoch [17], test_loss: 0.9423, test_acc: 0.8329\n",
            "Epoch [18], test_loss: 0.9191, test_acc: 0.8344\n",
            "Epoch [19], test_loss: 0.8976, test_acc: 0.8371\n",
            "Epoch [20], test_loss: 0.8778, test_acc: 0.8391\n",
            "Epoch [21], test_loss: 0.8593, test_acc: 0.8412\n",
            "Epoch [22], test_loss: 0.8422, test_acc: 0.8430\n",
            "Epoch [23], test_loss: 0.8262, test_acc: 0.8443\n",
            "Epoch [24], test_loss: 0.8112, test_acc: 0.8462\n",
            "Epoch [25], test_loss: 0.7972, test_acc: 0.8476\n",
            "Epoch [26], test_loss: 0.7840, test_acc: 0.8486\n",
            "Epoch [27], test_loss: 0.7715, test_acc: 0.8500\n",
            "Epoch [28], test_loss: 0.7598, test_acc: 0.8511\n",
            "Epoch [29], test_loss: 0.7487, test_acc: 0.8523\n",
            "Epoch [30], test_loss: 0.7383, test_acc: 0.8533\n",
            "Epoch [31], test_loss: 0.7283, test_acc: 0.8536\n",
            "Epoch [32], test_loss: 0.7189, test_acc: 0.8545\n",
            "Epoch [33], test_loss: 0.7099, test_acc: 0.8551\n",
            "Epoch [34], test_loss: 0.7013, test_acc: 0.8564\n",
            "Epoch [35], test_loss: 0.6932, test_acc: 0.8566\n",
            "Epoch [36], test_loss: 0.6854, test_acc: 0.8572\n",
            "Epoch [37], test_loss: 0.6780, test_acc: 0.8578\n",
            "Epoch [38], test_loss: 0.6709, test_acc: 0.8590\n",
            "Epoch [39], test_loss: 0.6640, test_acc: 0.8598\n",
            "Epoch [40], test_loss: 0.6575, test_acc: 0.8606\n",
            "Epoch [41], test_loss: 0.6512, test_acc: 0.8616\n",
            "Epoch [42], test_loss: 0.6451, test_acc: 0.8619\n",
            "Epoch [43], test_loss: 0.6393, test_acc: 0.8625\n",
            "Epoch [44], test_loss: 0.6337, test_acc: 0.8632\n",
            "Epoch [45], test_loss: 0.6283, test_acc: 0.8637\n",
            "Epoch [46], test_loss: 0.6231, test_acc: 0.8645\n",
            "Epoch [47], test_loss: 0.6181, test_acc: 0.8653\n",
            "Epoch [48], test_loss: 0.6133, test_acc: 0.8658\n",
            "Epoch [49], test_loss: 0.6086, test_acc: 0.8667\n",
            "Epoch [50], test_loss: 0.6041, test_acc: 0.8678\n",
            "Epoch [51], test_loss: 0.5997, test_acc: 0.8684\n",
            "Epoch [52], test_loss: 0.5954, test_acc: 0.8689\n",
            "Epoch [53], test_loss: 0.5913, test_acc: 0.8690\n",
            "Epoch [54], test_loss: 0.5874, test_acc: 0.8690\n",
            "Epoch [55], test_loss: 0.5835, test_acc: 0.8693\n",
            "Epoch [56], test_loss: 0.5798, test_acc: 0.8696\n",
            "Epoch [57], test_loss: 0.5761, test_acc: 0.8699\n",
            "Epoch [58], test_loss: 0.5726, test_acc: 0.8699\n",
            "Epoch [59], test_loss: 0.5692, test_acc: 0.8707\n",
            "Epoch [60], test_loss: 0.5658, test_acc: 0.8709\n",
            "Epoch [61], test_loss: 0.5626, test_acc: 0.8713\n",
            "Epoch [62], test_loss: 0.5594, test_acc: 0.8715\n",
            "Epoch [63], test_loss: 0.5563, test_acc: 0.8717\n",
            "Epoch [64], test_loss: 0.5533, test_acc: 0.8721\n",
            "Epoch [65], test_loss: 0.5504, test_acc: 0.8730\n",
            "Epoch [66], test_loss: 0.5475, test_acc: 0.8734\n",
            "Epoch [67], test_loss: 0.5447, test_acc: 0.8744\n",
            "Epoch [68], test_loss: 0.5420, test_acc: 0.8746\n",
            "Epoch [69], test_loss: 0.5394, test_acc: 0.8746\n",
            "Epoch [70], test_loss: 0.5368, test_acc: 0.8747\n",
            "Epoch [71], test_loss: 0.5342, test_acc: 0.8752\n",
            "Epoch [72], test_loss: 0.5318, test_acc: 0.8755\n",
            "Epoch [73], test_loss: 0.5294, test_acc: 0.8760\n",
            "Epoch [74], test_loss: 0.5270, test_acc: 0.8765\n",
            "Epoch [75], test_loss: 0.5247, test_acc: 0.8767\n",
            "Epoch [76], test_loss: 0.5225, test_acc: 0.8767\n",
            "Epoch [77], test_loss: 0.5203, test_acc: 0.8773\n",
            "Epoch [78], test_loss: 0.5181, test_acc: 0.8772\n",
            "Epoch [79], test_loss: 0.5160, test_acc: 0.8776\n",
            "Epoch [80], test_loss: 0.5139, test_acc: 0.8778\n",
            "Epoch [81], test_loss: 0.5119, test_acc: 0.8781\n",
            "Epoch [82], test_loss: 0.5099, test_acc: 0.8784\n",
            "Epoch [83], test_loss: 0.5079, test_acc: 0.8786\n",
            "Epoch [84], test_loss: 0.5060, test_acc: 0.8790\n",
            "Epoch [85], test_loss: 0.5041, test_acc: 0.8793\n",
            "Epoch [86], test_loss: 0.5023, test_acc: 0.8795\n",
            "Epoch [87], test_loss: 0.5005, test_acc: 0.8797\n",
            "Epoch [88], test_loss: 0.4987, test_acc: 0.8800\n",
            "Epoch [89], test_loss: 0.4970, test_acc: 0.8804\n",
            "Epoch [90], test_loss: 0.4953, test_acc: 0.8805\n",
            "Epoch [91], test_loss: 0.4936, test_acc: 0.8805\n",
            "Epoch [92], test_loss: 0.4919, test_acc: 0.8809\n",
            "Epoch [93], test_loss: 0.4903, test_acc: 0.8813\n",
            "Epoch [94], test_loss: 0.4887, test_acc: 0.8814\n",
            "Epoch [95], test_loss: 0.4872, test_acc: 0.8815\n",
            "Epoch [96], test_loss: 0.4856, test_acc: 0.8818\n",
            "Epoch [97], test_loss: 0.4841, test_acc: 0.8821\n",
            "Epoch [98], test_loss: 0.4827, test_acc: 0.8821\n",
            "Epoch [99], test_loss: 0.4812, test_acc: 0.8821\n"
          ]
        }
      ]
    },
    {
      "cell_type": "code",
      "source": [
        "history2 = fit(50, 0.008, model, train_loader, test_loader)"
      ],
      "metadata": {
        "colab": {
          "base_uri": "https://localhost:8080/"
        },
        "id": "k49SAWZGb6JD",
        "outputId": "175e6f35-341a-4752-f7ae-2e096800472f"
      },
      "execution_count": null,
      "outputs": [
        {
          "output_type": "stream",
          "name": "stdout",
          "text": [
            "Epoch [0], test_loss: 0.4793, test_acc: 0.8824\n",
            "Epoch [1], test_loss: 0.4774, test_acc: 0.8824\n",
            "Epoch [2], test_loss: 0.4756, test_acc: 0.8832\n",
            "Epoch [3], test_loss: 0.4738, test_acc: 0.8836\n",
            "Epoch [4], test_loss: 0.4721, test_acc: 0.8840\n",
            "Epoch [5], test_loss: 0.4704, test_acc: 0.8846\n",
            "Epoch [6], test_loss: 0.4687, test_acc: 0.8847\n",
            "Epoch [7], test_loss: 0.4670, test_acc: 0.8849\n",
            "Epoch [8], test_loss: 0.4654, test_acc: 0.8850\n",
            "Epoch [9], test_loss: 0.4639, test_acc: 0.8849\n",
            "Epoch [10], test_loss: 0.4623, test_acc: 0.8853\n",
            "Epoch [11], test_loss: 0.4608, test_acc: 0.8856\n",
            "Epoch [12], test_loss: 0.4593, test_acc: 0.8858\n",
            "Epoch [13], test_loss: 0.4578, test_acc: 0.8861\n",
            "Epoch [14], test_loss: 0.4564, test_acc: 0.8862\n",
            "Epoch [15], test_loss: 0.4550, test_acc: 0.8865\n",
            "Epoch [16], test_loss: 0.4536, test_acc: 0.8868\n",
            "Epoch [17], test_loss: 0.4522, test_acc: 0.8869\n",
            "Epoch [18], test_loss: 0.4509, test_acc: 0.8870\n",
            "Epoch [19], test_loss: 0.4496, test_acc: 0.8870\n",
            "Epoch [20], test_loss: 0.4483, test_acc: 0.8870\n",
            "Epoch [21], test_loss: 0.4470, test_acc: 0.8874\n",
            "Epoch [22], test_loss: 0.4458, test_acc: 0.8876\n",
            "Epoch [23], test_loss: 0.4445, test_acc: 0.8878\n",
            "Epoch [24], test_loss: 0.4433, test_acc: 0.8880\n",
            "Epoch [25], test_loss: 0.4421, test_acc: 0.8881\n",
            "Epoch [26], test_loss: 0.4409, test_acc: 0.8884\n",
            "Epoch [27], test_loss: 0.4398, test_acc: 0.8885\n",
            "Epoch [28], test_loss: 0.4387, test_acc: 0.8887\n",
            "Epoch [29], test_loss: 0.4375, test_acc: 0.8889\n",
            "Epoch [30], test_loss: 0.4364, test_acc: 0.8891\n",
            "Epoch [31], test_loss: 0.4354, test_acc: 0.8893\n",
            "Epoch [32], test_loss: 0.4343, test_acc: 0.8894\n",
            "Epoch [33], test_loss: 0.4332, test_acc: 0.8897\n",
            "Epoch [34], test_loss: 0.4322, test_acc: 0.8902\n",
            "Epoch [35], test_loss: 0.4312, test_acc: 0.8903\n",
            "Epoch [36], test_loss: 0.4302, test_acc: 0.8906\n",
            "Epoch [37], test_loss: 0.4292, test_acc: 0.8906\n",
            "Epoch [38], test_loss: 0.4282, test_acc: 0.8910\n",
            "Epoch [39], test_loss: 0.4273, test_acc: 0.8911\n",
            "Epoch [40], test_loss: 0.4263, test_acc: 0.8915\n",
            "Epoch [41], test_loss: 0.4254, test_acc: 0.8919\n",
            "Epoch [42], test_loss: 0.4245, test_acc: 0.8920\n",
            "Epoch [43], test_loss: 0.4236, test_acc: 0.8923\n",
            "Epoch [44], test_loss: 0.4227, test_acc: 0.8927\n",
            "Epoch [45], test_loss: 0.4218, test_acc: 0.8927\n",
            "Epoch [46], test_loss: 0.4209, test_acc: 0.8929\n",
            "Epoch [47], test_loss: 0.4201, test_acc: 0.8929\n",
            "Epoch [48], test_loss: 0.4192, test_acc: 0.8929\n",
            "Epoch [49], test_loss: 0.4184, test_acc: 0.8929\n"
          ]
        }
      ]
    },
    {
      "cell_type": "code",
      "source": [
        "history3 = fit(50, 0.002, model, train_loader, test_loader)"
      ],
      "metadata": {
        "colab": {
          "base_uri": "https://localhost:8080/"
        },
        "id": "ikwqBOWZekpb",
        "outputId": "ef3af0f8-b192-4c3d-b169-b2766a98637e"
      },
      "execution_count": null,
      "outputs": [
        {
          "output_type": "stream",
          "name": "stdout",
          "text": [
            "Epoch [0], test_loss: 0.4182, test_acc: 0.8929\n",
            "Epoch [1], test_loss: 0.4180, test_acc: 0.8930\n",
            "Epoch [2], test_loss: 0.4178, test_acc: 0.8933\n",
            "Epoch [3], test_loss: 0.4176, test_acc: 0.8934\n",
            "Epoch [4], test_loss: 0.4173, test_acc: 0.8934\n",
            "Epoch [5], test_loss: 0.4171, test_acc: 0.8934\n",
            "Epoch [6], test_loss: 0.4169, test_acc: 0.8934\n",
            "Epoch [7], test_loss: 0.4167, test_acc: 0.8934\n",
            "Epoch [8], test_loss: 0.4165, test_acc: 0.8934\n",
            "Epoch [9], test_loss: 0.4163, test_acc: 0.8935\n",
            "Epoch [10], test_loss: 0.4161, test_acc: 0.8935\n",
            "Epoch [11], test_loss: 0.4159, test_acc: 0.8936\n",
            "Epoch [12], test_loss: 0.4157, test_acc: 0.8936\n",
            "Epoch [13], test_loss: 0.4155, test_acc: 0.8935\n",
            "Epoch [14], test_loss: 0.4153, test_acc: 0.8935\n",
            "Epoch [15], test_loss: 0.4151, test_acc: 0.8937\n",
            "Epoch [16], test_loss: 0.4149, test_acc: 0.8937\n",
            "Epoch [17], test_loss: 0.4147, test_acc: 0.8938\n",
            "Epoch [18], test_loss: 0.4145, test_acc: 0.8939\n",
            "Epoch [19], test_loss: 0.4144, test_acc: 0.8939\n",
            "Epoch [20], test_loss: 0.4142, test_acc: 0.8939\n",
            "Epoch [21], test_loss: 0.4140, test_acc: 0.8940\n",
            "Epoch [22], test_loss: 0.4138, test_acc: 0.8940\n",
            "Epoch [23], test_loss: 0.4136, test_acc: 0.8941\n",
            "Epoch [24], test_loss: 0.4134, test_acc: 0.8942\n",
            "Epoch [25], test_loss: 0.4132, test_acc: 0.8942\n",
            "Epoch [26], test_loss: 0.4130, test_acc: 0.8942\n",
            "Epoch [27], test_loss: 0.4128, test_acc: 0.8943\n",
            "Epoch [28], test_loss: 0.4126, test_acc: 0.8943\n",
            "Epoch [29], test_loss: 0.4124, test_acc: 0.8943\n",
            "Epoch [30], test_loss: 0.4123, test_acc: 0.8943\n",
            "Epoch [31], test_loss: 0.4121, test_acc: 0.8943\n",
            "Epoch [32], test_loss: 0.4119, test_acc: 0.8943\n",
            "Epoch [33], test_loss: 0.4117, test_acc: 0.8942\n",
            "Epoch [34], test_loss: 0.4115, test_acc: 0.8942\n",
            "Epoch [35], test_loss: 0.4113, test_acc: 0.8942\n",
            "Epoch [36], test_loss: 0.4111, test_acc: 0.8943\n",
            "Epoch [37], test_loss: 0.4109, test_acc: 0.8943\n",
            "Epoch [38], test_loss: 0.4108, test_acc: 0.8943\n",
            "Epoch [39], test_loss: 0.4106, test_acc: 0.8943\n",
            "Epoch [40], test_loss: 0.4104, test_acc: 0.8943\n",
            "Epoch [41], test_loss: 0.4102, test_acc: 0.8944\n",
            "Epoch [42], test_loss: 0.4100, test_acc: 0.8946\n",
            "Epoch [43], test_loss: 0.4098, test_acc: 0.8946\n",
            "Epoch [44], test_loss: 0.4097, test_acc: 0.8947\n",
            "Epoch [45], test_loss: 0.4095, test_acc: 0.8950\n",
            "Epoch [46], test_loss: 0.4093, test_acc: 0.8950\n",
            "Epoch [47], test_loss: 0.4091, test_acc: 0.8950\n",
            "Epoch [48], test_loss: 0.4089, test_acc: 0.8950\n",
            "Epoch [49], test_loss: 0.4088, test_acc: 0.8951\n"
          ]
        }
      ]
    },
    {
      "cell_type": "code",
      "source": [
        "history = history + history2 + history3\n",
        "accuracies = [result['test_acc'] for result in history]\n",
        "plt.plot(accuracies)\n",
        "plt.xlabel('epoch')\n",
        "plt.ylabel('accuracy')\n",
        "plt.title('Accuracy Vs. No. of epochs')"
      ],
      "metadata": {
        "colab": {
          "base_uri": "https://localhost:8080/",
          "height": 490
        },
        "id": "QwXFXiAtTiL5",
        "outputId": "c6918ef2-9470-45ff-a82c-392e092f0980"
      },
      "execution_count": null,
      "outputs": [
        {
          "output_type": "execute_result",
          "data": {
            "text/plain": [
              "Text(0.5, 1.0, 'Accuracy Vs. No. of epochs')"
            ]
          },
          "metadata": {},
          "execution_count": 48
        },
        {
          "output_type": "display_data",
          "data": {
            "text/plain": [
              "<Figure size 640x480 with 1 Axes>"
            ],
            "image/png": "[encoded data removed]"
          },
          "metadata": {}
        }
      ]
    }
  ]
}